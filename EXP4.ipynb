{
 "cells": [
  {
   "cell_type": "code",
   "execution_count": 23,
   "metadata": {},
   "outputs": [
    {
     "name": "stdout",
     "output_type": "stream",
     "text": [
      "My name is\n",
      "My name is yash verma\n"
     ]
    }
   ],
   "source": [
    "from contextlib import contextmanager\n",
    "\n",
    "@contextmanager\n",
    "def genericFileFunction (filename, method):\n",
    "    file = open (filename, method)\n",
    "    yield file\n",
    "    file.close ()\n",
    "\n",
    "if __name__ == '__main__':\n",
    "    with genericFileFunction ('./file.txt', 'w') as f:\n",
    "        f.write(\"My name is\")\n",
    "\n",
    "    with genericFileFunction ('./file.txt', 'r') as f:\n",
    "        print(f.read())\n",
    "\n",
    "    with genericFileFunction ('./file.txt', 'a') as f:\n",
    "        f.write(\" yash verma\")    \n",
    "    \n",
    "    with genericFileFunction('./file.txt','r') as f:\n",
    "        print(f.read())"
   ]
  }
 ],
 "metadata": {
  "kernelspec": {
   "display_name": "Python 3",
   "language": "python",
   "name": "python3"
  },
  "language_info": {
   "codemirror_mode": {
    "name": "ipython",
    "version": 3
   },
   "file_extension": ".py",
   "mimetype": "text/x-python",
   "name": "python",
   "nbconvert_exporter": "python",
   "pygments_lexer": "ipython3",
   "version": "3.11.4"
  }
 },
 "nbformat": 4,
 "nbformat_minor": 2
}
