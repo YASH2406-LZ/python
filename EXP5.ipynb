{
  "nbformat": 4,
  "nbformat_minor": 0,
  "metadata": {
    "colab": {
      "provenance": [],
      "authorship_tag": "ABX9TyNkS3R5t6ns88N84FgFvkR6",
      "include_colab_link": true
    },
    "kernelspec": {
      "name": "python3",
      "display_name": "Python 3"
    },
    "language_info": {
      "name": "python"
    }
  },
  "cells": [
    {
      "cell_type": "markdown",
      "metadata": {
        "id": "view-in-github",
        "colab_type": "text"
      },
      "source": [
        "<a href=\"https://colab.research.google.com/github/YASH2406-LZ/python/blob/main/EXP5.ipynb\" target=\"_parent\"><img src=\"https://colab.research.google.com/assets/colab-badge.svg\" alt=\"Open In Colab\"/></a>"
      ]
    },
    {
      "cell_type": "code",
      "source": [
        "class StackDepth:\n",
        "    def maximumDepth(self, stringInput: str) -> int:\n",
        "        stack = []\n",
        "        max_depth = 0\n",
        "        for char in stringInput:\n",
        "            if char == '(':\n",
        "                stack.append(char)\n",
        "                max_depth = max(max_depth, len(stack))\n",
        "            elif char == ')':\n",
        "                stack.pop()\n",
        "        return max_depth\n",
        "\n",
        "\n",
        "stack_depth = StackDepth()\n",
        "string_input = \"((()))\"\n",
        "result = stack_depth.maximumDepth(string_input)\n",
        "print(result)\n"
      ],
      "metadata": {
        "colab": {
          "base_uri": "https://localhost:8080/"
        },
        "id": "9Rp7njGuTyL9",
        "outputId": "723c01e3-2f96-4e89-dc78-0d69a3b03af1"
      },
      "execution_count": 4,
      "outputs": [
        {
          "output_type": "stream",
          "name": "stdout",
          "text": [
            "3\n"
          ]
        }
      ]
    }
  ]
}