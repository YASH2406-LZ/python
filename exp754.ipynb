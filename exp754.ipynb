{
 "cells": [
  {
   "cell_type": "markdown",
   "metadata": {},
   "source": [
    "# YASH VERMA\n",
    "# se3_54"
   ]
  },
  {
   "cell_type": "code",
   "execution_count": null,
   "metadata": {},
   "outputs": [],
   "source": [
    "import sqlite3"
   ]
  },
  {
   "cell_type": "code",
   "execution_count": 9,
   "metadata": {},
   "outputs": [],
   "source": [
    "connection = sqlite3.connect ('./genericDatabase.db')\n",
    "cursor = connection.cursor ()"
   ]
  },
  {
   "cell_type": "code",
   "execution_count": 10,
   "metadata": {},
   "outputs": [],
   "source": [
    "cursor.execute('''\n",
    "    CREATE TABLE IF NOT EXISTS students (\n",
    "        id INTEGER PRIMARY KEY AUTOINCREMENT,\n",
    "        name TEXT NOT NULL,\n",
    "        age INTEGER NOT NULL\n",
    "    )\n",
    "''')\n",
    "\n",
    "connection.commit()"
   ]
  },
  {
   "cell_type": "code",
   "execution_count": 11,
   "metadata": {},
   "outputs": [
    {
     "name": "stdout",
     "output_type": "stream",
     "text": [
      "Record added successfully!\n",
      "Record added successfully!\n"
     ]
    }
   ],
   "source": [
    "def create_student(name, age):\n",
    "    cursor.execute('''\n",
    "        INSERT INTO students (name, age) \n",
    "        VALUES (?, ?)\n",
    "    ''', (name, age))\n",
    "    connection.commit()\n",
    "    print(\"Record added successfully!\")\n",
    "\n",
    "create_student(\"Griffith\", 20)\n",
    "create_student(\"Guts\", 22)"
   ]
  },
  {
   "cell_type": "code",
   "execution_count": 12,
   "metadata": {},
   "outputs": [
    {
     "name": "stdout",
     "output_type": "stream",
     "text": [
      "Student Records:\n",
      "(1, 'Griffith', 21)\n",
      "(4, 'Guts', 22)\n",
      "(5, 'Griffith', 20)\n",
      "(6, 'Guts', 22)\n",
      "(7, 'Griffith', 20)\n",
      "(8, 'Guts', 22)\n",
      "(9, 'Griffith', 20)\n",
      "(10, 'Guts', 22)\n",
      "(11, 'Griffith', 20)\n",
      "(12, 'Guts', 22)\n",
      "(13, 'Griffith', 20)\n",
      "(14, 'Guts', 22)\n"
     ]
    }
   ],
   "source": [
    "def read_students():\n",
    "    cursor.execute('SELECT * FROM students')\n",
    "    rows = cursor.fetchall()\n",
    "    print(\"Student Records:\")\n",
    "    for row in rows:\n",
    "        print(row)\n",
    "\n",
    "read_students()"
   ]
  },
  {
   "cell_type": "code",
   "execution_count": 13,
   "metadata": {},
   "outputs": [
    {
     "name": "stdout",
     "output_type": "stream",
     "text": [
      "Student age updated successfully!\n",
      "Student Records:\n",
      "(1, 'Griffith', 21)\n",
      "(4, 'Guts', 22)\n",
      "(5, 'Griffith', 20)\n",
      "(6, 'Guts', 22)\n",
      "(7, 'Griffith', 20)\n",
      "(8, 'Guts', 22)\n",
      "(9, 'Griffith', 20)\n",
      "(10, 'Guts', 22)\n",
      "(11, 'Griffith', 20)\n",
      "(12, 'Guts', 22)\n",
      "(13, 'Griffith', 20)\n",
      "(14, 'Guts', 22)\n"
     ]
    }
   ],
   "source": [
    "def update_student_age(student_id, new_age):\n",
    "    cursor.execute(''' UPDATE students\n",
    "                   SET age = ?\n",
    "                   WHERE id = ?;\n",
    "\n",
    "\n",
    "        \n",
    "    ''', (new_age, student_id))\n",
    "    connection.commit()\n",
    "    print(\"Student age updated successfully!\")\n",
    "\n",
    "update_student_age(3, 21)  # Updating Alice's age to 21\n",
    "read_students()"
   ]
  },
  {
   "cell_type": "code",
   "execution_count": 14,
   "metadata": {},
   "outputs": [
    {
     "name": "stdout",
     "output_type": "stream",
     "text": [
      "Student deleted successfully!\n",
      "Student Records:\n",
      "(1, 'Griffith', 21)\n",
      "(4, 'Guts', 22)\n",
      "(5, 'Griffith', 20)\n",
      "(6, 'Guts', 22)\n",
      "(7, 'Griffith', 20)\n",
      "(8, 'Guts', 22)\n",
      "(9, 'Griffith', 20)\n",
      "(10, 'Guts', 22)\n",
      "(11, 'Griffith', 20)\n",
      "(12, 'Guts', 22)\n",
      "(13, 'Griffith', 20)\n",
      "(14, 'Guts', 22)\n"
     ]
    }
   ],
   "source": [
    "def delete_student(student_id):\n",
    "    cursor.execute('''\n",
    "                DELETE FROM students\n",
    "                   WHERE id = ?\n",
    "\n",
    "                       \n",
    "\n",
    "        \n",
    "    ''', (student_id,))\n",
    "    connection.commit()\n",
    "    print(\"Student deleted successfully!\")\n",
    "\n",
    "delete_student(3)  # Deleting Bob's record\n",
    "read_students()"
   ]
  }
 ],
 "metadata": {
  "kernelspec": {
   "display_name": "Python 3",
   "language": "python",
   "name": "python3"
  },
  "language_info": {
   "codemirror_mode": {
    "name": "ipython",
    "version": 3
   },
   "file_extension": ".py",
   "mimetype": "text/x-python",
   "name": "python",
   "nbconvert_exporter": "python",
   "pygments_lexer": "ipython3",
   "version": "3.11.4"
  }
 },
 "nbformat": 4,
 "nbformat_minor": 2
}
