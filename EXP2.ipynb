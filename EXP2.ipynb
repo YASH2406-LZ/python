{
 "cells": [
  {
   "cell_type": "code",
   "execution_count": null,
   "metadata": {},
   "outputs": [
    {
     "name": "stdout",
     "output_type": "stream",
     "text": [
      "String: aaabbb, Result: True\n",
      "String: abab, Result: False\n",
      "String: bbb, Result: True\n"
     ]
    }
   ],
   "source": [
    "class ConditionalStatements:\n",
    "    def checkString(self, s: str) -> bool:\n",
    "        seen_b = False  \n",
    "        \n",
    "        for char in s:\n",
    "            if char == 'b':\n",
    "                seen_b = True  \n",
    "            elif char == 'a' and seen_b:\n",
    "                return False\n",
    "        \n",
    "        return True  \n",
    "\n",
    "obj = ConditionalStatements()\n",
    "\n",
    "test_strings = [\"aaabbb\", \"abab\", \"bbb\"]\n",
    "\n",
    "for s in test_strings:\n",
    "    result = obj.checkString(s)\n",
    "    print(f\"String: {s}, Result: {result}\")"
   ]
  }
 ],
 "metadata": {
  "kernelspec": {
   "display_name": "Python 3",
   "language": "python",
   "name": "python3"
  },
  "language_info": {
   "codemirror_mode": {
    "name": "ipython",
    "version": 3
   },
   "file_extension": ".py",
   "mimetype": "text/x-python",
   "name": "python",
   "nbconvert_exporter": "python",
   "pygments_lexer": "ipython3",
   "version": "3.11.4"
  }
 },
 "nbformat": 4,
 "nbformat_minor": 2
}
